{
 "cells": [
  {
   "cell_type": "markdown",
   "metadata": {},
   "source": [
    "# Treasure Hunt Game Notebook\n",
    "\n",
    "## Read and Review Your Starter Code\n",
    "The theme of this project is a popular treasure hunt game in which the player needs to find the treasure before the pirate does. While you will not be developing the entire game, you will write the part of the game that represents the intelligent agent, which is a pirate in this case. The pirate will try to find the optimal path to the treasure using deep Q-learning. \n",
    "\n",
    "You have been provided with two Python classes and this notebook to help you with this assignment. The first class, TreasureMaze.py, represents the environment, which includes a maze object defined as a matrix. The second class, GameExperience.py, stores the episodes – that is, all the states that come in between the initial state and the terminal state. This is later used by the agent for learning by experience, called \"exploration\". This notebook shows how to play a game. Your task is to complete the deep Q-learning implementation for which a skeleton implementation has been provided. The code blocks you will need to complete has #TODO as a header.\n",
    "\n",
    "First, read and review the next few code and instruction blocks to understand the code that you have been given."
   ]
  },
  {
   "cell_type": "code",
   "execution_count": 5,
   "metadata": {},
   "outputs": [
    {
     "name": "stderr",
     "output_type": "stream",
     "text": [
      "Using TensorFlow backend.\n"
     ]
    }
   ],
   "source": [
    "from __future__ import print_function\n",
    "import os, sys, time, datetime, json, random\n",
    "import numpy as np\n",
    "from keras.models import Sequential\n",
    "from keras.layers.core import Dense, Activation\n",
    "from keras.optimizers import SGD , Adam, RMSprop\n",
    "from keras.layers.advanced_activations import PReLU\n",
    "import matplotlib.pyplot as plt\n",
    "from TreasureMaze import TreasureMaze\n",
    "from GameExperience import GameExperience\n",
    "%matplotlib inline"
   ]
  },
  {
   "cell_type": "markdown",
   "metadata": {},
   "source": [
    "The following code block contains an 8x8 matrix that will be used as a maze object:"
   ]
  },
  {
   "cell_type": "code",
   "execution_count": 6,
   "metadata": {},
   "outputs": [],
   "source": [
    "maze = np.array([\n",
    "    [ 1.,  0.,  1.,  1.,  1.,  1.,  1.,  1.],\n",
    "    [ 1.,  0.,  1.,  1.,  1.,  0.,  1.,  1.],\n",
    "    [ 1.,  1.,  1.,  1.,  0.,  1.,  0.,  1.],\n",
    "    [ 1.,  1.,  1.,  0.,  1.,  1.,  1.,  1.],\n",
    "    [ 1.,  1.,  0.,  1.,  1.,  1.,  1.,  1.],\n",
    "    [ 1.,  1.,  1.,  0.,  1.,  0.,  0.,  0.],\n",
    "    [ 1.,  1.,  1.,  0.,  1.,  1.,  1.,  1.],\n",
    "    [ 1.,  1.,  1.,  1.,  0.,  1.,  1.,  1.]\n",
    "])"
   ]
  },
  {
   "cell_type": "markdown",
   "metadata": {},
   "source": [
    "This helper function allows a visual representation of the maze object:"
   ]
  },
  {
   "cell_type": "code",
   "execution_count": 7,
   "metadata": {},
   "outputs": [],
   "source": [
    "def show(qmaze):\n",
    "    plt.grid('on')\n",
    "    nrows, ncols = qmaze.maze.shape\n",
    "    ax = plt.gca()\n",
    "    ax.set_xticks(np.arange(0.5, nrows, 1))\n",
    "    ax.set_yticks(np.arange(0.5, ncols, 1))\n",
    "    ax.set_xticklabels([])\n",
    "    ax.set_yticklabels([])\n",
    "    canvas = np.copy(qmaze.maze)\n",
    "    for row,col in qmaze.visited:\n",
    "        canvas[row,col] = 0.6\n",
    "    pirate_row, pirate_col, _ = qmaze.state\n",
    "    canvas[pirate_row, pirate_col] = 0.3   # pirate cell\n",
    "    canvas[nrows-1, ncols-1] = 0.9 # treasure cell\n",
    "    img = plt.imshow(canvas, interpolation='none', cmap='gray')\n",
    "    return img"
   ]
  },
  {
   "cell_type": "markdown",
   "metadata": {},
   "source": [
    "The pirate agent can move in four directions: left, right, up, and down. \n",
    "\n",
    "While the agent primarily learns by experience through exploitation, often, the agent can choose to explore the environment to find previously undiscovered paths. This is called \"exploration\" and is defined by epsilon. This value is typically a lower value such as 0.1, which means for every ten attempts, the agent will attempt to learn by experience nine times and will randomly explore a new path one time. You are encouraged to try various values for the exploration factor and see how the algorithm performs."
   ]
  },
  {
   "cell_type": "code",
   "execution_count": 8,
   "metadata": {},
   "outputs": [],
   "source": [
    "LEFT = 0\n",
    "UP = 1\n",
    "RIGHT = 2\n",
    "DOWN = 3\n",
    "\n",
    "\n",
    "# Exploration factor\n",
    "epsilon = 0.1\n",
    "\n",
    "# Actions dictionary\n",
    "actions_dict = {\n",
    "    LEFT: 'left',\n",
    "    UP: 'up',\n",
    "    RIGHT: 'right',\n",
    "    DOWN: 'down',\n",
    "}\n",
    "\n",
    "num_actions = len(actions_dict)\n"
   ]
  },
  {
   "cell_type": "markdown",
   "metadata": {},
   "source": [
    "The sample code block and output below show creating a maze object and performing one action (DOWN), which returns the reward. The resulting updated environment is visualized."
   ]
  },
  {
   "cell_type": "code",
   "execution_count": 9,
   "metadata": {},
   "outputs": [
    {
     "name": "stdout",
     "output_type": "stream",
     "text": [
      "reward= -0.04\n"
     ]
    },
    {
     "data": {
      "text/plain": [
       "<matplotlib.image.AxesImage at 0x1ba3b9b0648>"
      ]
     },
     "execution_count": 9,
     "metadata": {},
     "output_type": "execute_result"
    },
    {
     "data": {
      "image/png": "[encoded data removed]",
      "text/plain": [
       "<Figure size 432x288 with 1 Axes>"
      ]
     },
     "metadata": {
      "needs_background": "light"
     },
     "output_type": "display_data"
    }
   ],
   "source": [
    "qmaze = TreasureMaze(maze)\n",
    "canvas, reward, game_over = qmaze.act(DOWN)\n",
    "print(\"reward=\", reward)\n",
    "show(qmaze)"
   ]
  },
  {
   "cell_type": "markdown",
   "metadata": {},
   "source": [
    "This function simulates a full game based on the provided trained model. The other parameters include the TreasureMaze object and the starting position of the pirate."
   ]
  },
  {
   "cell_type": "code",
   "execution_count": 10,
   "metadata": {},
   "outputs": [],
   "source": [
    "def play_game(model, qmaze, pirate_cell):\n",
    "    qmaze.reset(pirate_cell)\n",
    "    envstate = qmaze.observe()\n",
    "    while True:\n",
    "        prev_envstate = envstate\n",
    "        # get next action\n",
    "        q = model.predict(prev_envstate)\n",
    "        action = np.argmax(q[0])\n",
    "\n",
    "        # apply action, get rewards and new state\n",
    "        envstate, reward, game_status = qmaze.act(action)\n",
    "        if game_status == 'win':\n",
    "            return True\n",
    "        elif game_status == 'lose':\n",
    "            return False"
   ]
  },
  {
   "cell_type": "markdown",
   "metadata": {},
   "source": [
    "This function helps you to determine whether the pirate can win any game at all. If your maze is not well designed, the pirate may not win any game at all. In this case, your training would not yield any result. The provided maze in this notebook ensures that there is a path to win and you can run this method to check."
   ]
  },
  {
   "cell_type": "code",
   "execution_count": 11,
   "metadata": {},
   "outputs": [],
   "source": [
    "def completion_check(model, qmaze):\n",
    "    for cell in qmaze.free_cells:\n",
    "        if not qmaze.valid_actions(cell):\n",
    "            return False\n",
    "        if not play_game(model, qmaze, cell):\n",
    "            return False\n",
    "    return True"
   ]
  },
  {
   "cell_type": "markdown",
   "metadata": {},
   "source": [
    "The code you have been given in this block will build the neural network model. Review the code and note the number of layers, as well as the activation, optimizer, and loss functions that are used to train the model."
   ]
  },
  {
   "cell_type": "code",
   "execution_count": 12,
   "metadata": {},
   "outputs": [],
   "source": [
    "def build_model(maze):\n",
    "    model = Sequential()\n",
    "    model.add(Dense(maze.size, input_shape=(maze.size,)))\n",
    "    model.add(PReLU())\n",
    "    model.add(Dense(maze.size))\n",
    "    model.add(PReLU())\n",
    "    model.add(Dense(num_actions))\n",
    "    model.compile(optimizer='adam', loss='mse')\n",
    "    return model"
   ]
  },
  {
   "cell_type": "markdown",
   "metadata": {},
   "source": [
    "# #TODO: Complete the Q-Training Algorithm Code Block\n",
    "\n",
    "This is your deep Q-learning implementation. The goal of your deep Q-learning implementation is to find the best possible navigation sequence that results in reaching the treasure cell while maximizing the reward. In your implementation, you need to determine the optimal number of epochs to achieve a 100% win rate.\n",
    "\n",
    "You will need to complete the section starting with #pseudocode. The pseudocode has been included for you."
   ]
  },
  {
   "cell_type": "code",
   "execution_count": 23,
   "metadata": {},
   "outputs": [],
   "source": [
    "def qtrain(model, maze, **opt):\n",
    "\n",
    "    # exploration factor\n",
    "    global epsilon \n",
    "\n",
    "    # number of epochs\n",
    "    n_epoch = opt.get('n_epoch', 15000)\n",
    "\n",
    "    # maximum memory to store episodes\n",
    "    max_memory = opt.get('max_memory', 1000)\n",
    "\n",
    "    # maximum data size for training\n",
    "    data_size = opt.get('data_size', 50)\n",
    "\n",
    "    # start time\n",
    "    start_time = datetime.datetime.now()\n",
    "\n",
    "    # Construct environment/game from numpy array: maze (see above)\n",
    "    qmaze = TreasureMaze(maze)\n",
    "\n",
    "    # Initialize experience replay object\n",
    "    experience = GameExperience(model, max_memory=max_memory)\n",
    "    \n",
    "    win_history = []   # history of win/lose game\n",
    "    hsize = qmaze.maze.size//2   # history window size\n",
    "    win_rate = 0.0\n",
    "    \n",
    "    # pseudocode:\n",
    "    # For each epoch:\n",
    "    #    Agent_cell = randomly select a free cell\n",
    "    #    Reset the maze with agent set to above position\n",
    "    #    Hint: Review the reset method in the TreasureMaze.py class.\n",
    "    #    envstate = Environment.current_state\n",
    "    #    Hint: Review the observe method in the TreasureMaze.py class.\n",
    "    #    While state is not game over:\n",
    "    #        previous_envstate = envstate\n",
    "    #        Action = randomly choose action (left, right, up, down) either by exploration or by exploitation\n",
    "    #        envstate, reward, game_status = qmaze.act(action)\n",
    "    #    Hint: Review the act method in the TreasureMaze.py class.\n",
    "    #        episode = [previous_envstate, action, reward, envstate, game_status]\n",
    "    #        Store episode in Experience replay object\n",
    "    #    Hint: Review the remember method in the GameExperience.py class.\n",
    "    #        Train neural network model and evaluate loss\n",
    "    #    Hint: Call GameExperience.get_data to retrieve training data (input and target) and pass to model.fit method \n",
    "    #          to train the model. You can call model.evaluate to determine loss.\n",
    "    #    If the win rate is above the threshold and your model passes the completion check, that would be your epoch.\n",
    "    \n",
    "    for epoch in range(n_epoch):\n",
    "        # Select a random starting position for the agent from the free cells in the maze\n",
    "        Agent_cell = random.choice(qmaze.free_cells)\n",
    "        qmaze.reset(Agent_cell)\n",
    "        envstate = qmaze.observe()  # Get the current environment state\n",
    "    \n",
    "    # Initialize the episode counter and loss value\n",
    "    n_episodes = 0\n",
    "    loss = 0.0\n",
    "    \n",
    "    gameOver = False  # Flag to indicate if the game is over\n",
    "\n",
    "    while not gameOver:\n",
    "        previous_envstate = envstate  # Store the current state before taking an action\n",
    "        \n",
    "        # Get the valid actions from the current cell to avoid moving into walls\n",
    "        validAction = qmaze.valid_actions()\n",
    "        \n",
    "        if len(validAction) == 0: \n",
    "            break  # If no valid actions, exit the loop\n",
    "\n",
    "        # Determine whether to explore or exploit based on the decaying epsilon value\n",
    "        if 1 / (1 + epoch * decayRate) < epsilon:\n",
    "            # Exploit: Choose the action with the highest predicted reward\n",
    "            Action = np.argmax(experience.predict(previous_envstate))\n",
    "        else:\n",
    "            # Explore: Randomly choose one of the valid actions\n",
    "            Action = random.choice(validAction)\n",
    "        \n",
    "        # Take the action and observe the new state, reward, and game status\n",
    "        envstate, reward, game_status = qmaze.act(Action)\n",
    "        \n",
    "        # Create an episode tuple and add it to the experience memory\n",
    "        episode = [previous_envstate, Action, reward, envstate, game_status]\n",
    "        n_episodes += 1  # Increment the episode counter\n",
    "        experience.remember(episode)\n",
    "        \n",
    "        # Retrieve the inputs and targets for training the model\n",
    "        inputs, targets = experience.get_data()\n",
    "        \n",
    "        # Train the model with the retrieved data\n",
    "        # Using a batch size of 16 and 4 epochs for training, with verbose output off\n",
    "        model.fit(inputs, targets, epochs=4, batch_size=16, verbose=0)\n",
    "        \n",
    "        # Evaluate the model to calculate the loss\n",
    "        loss = model.evaluate(inputs, targets)\n",
    "        \n",
    "        # Update the win/lose history based on the game status\n",
    "        if game_status == 'win':\n",
    "            win_history.append(1)  # Record a win (1)\n",
    "            gameOver = True\n",
    "        elif game_status == 'lose':\n",
    "            win_history.append(0)  # Record a loss (0)\n",
    "            gameOver = True\n",
    "        else:\n",
    "            gameOver = False  # Continue the game if neither win nor lose\n",
    "\n",
    "        # Calculate the win rate over the last 'hsize' games, avoiding divide-by-zero\n",
    "        if len(win_history) > 0:\n",
    "            win_rate = sum(win_history[-hsize:]) / hsize  # Sum of wins / number of games in the window\n",
    "     \n",
    "\n",
    "    #Print the epoch, loss, episodes, win count, and win rate for each epoch\n",
    "        dt = datetime.datetime.now() - start_time\n",
    "        t = format_time(dt.total_seconds())\n",
    "        template = \"Epoch: {:03d}/{:d} | Loss: {:.4f} | Episodes: {:d} | Win count: {:d} | Win rate: {:.3f} | time: {}\"\n",
    "        print(template.format(epoch, n_epoch-1, loss, n_episodes, sum(win_history), win_rate, t))\n",
    "        # We simply check if training has exhausted all free cells and if in all\n",
    "        # cases the agent won.\n",
    "        if win_rate > 0.9 : epsilon = 0.05\n",
    "        if sum(win_history[-hsize:]) == hsize and completion_check(model, qmaze):\n",
    "            print(\"Reached 100%% win rate at epoch: %d\" % (epoch,))\n",
    "            break\n",
    "    \n",
    "    \n",
    "    # Determine the total time for training\n",
    "    dt = datetime.datetime.now() - start_time\n",
    "    seconds = dt.total_seconds()\n",
    "    t = format_time(seconds)\n",
    "\n",
    "    print(\"n_epoch: %d, max_mem: %d, data: %d, time: %s\" % (epoch, max_memory, data_size, t))\n",
    "    return seconds\n",
    "\n",
    "# This is a small utility for printing readable time strings:\n",
    "def format_time(seconds):\n",
    "    if seconds < 400:\n",
    "        s = float(seconds)\n",
    "        return \"%.1f seconds\" % (s,)\n",
    "    elif seconds < 4000:\n",
    "        m = seconds / 60.0\n",
    "        return \"%.2f minutes\" % (m,)\n",
    "    else:\n",
    "        h = seconds / 3600.0\n",
    "        return \"%.2f hours\" % (h,)"
   ]
  },
  {
   "cell_type": "markdown",
   "metadata": {},
   "source": [
    "## Test Your Model\n",
    "\n",
    "Now we will start testing the deep Q-learning implementation. To begin, select **Cell**, then **Run All** from the menu bar. This will run your notebook. As it runs, you should see output begin to appear beneath the next few cells. The code below creates an instance of TreasureMaze."
   ]
  },
  {
   "cell_type": "code",
   "execution_count": 19,
   "metadata": {},
   "outputs": [
    {
     "data": {
      "text/plain": [
       "<matplotlib.image.AxesImage at 0x1ba3f5a4988>"
      ]
     },
     "execution_count": 19,
     "metadata": {},
     "output_type": "execute_result"
    },
    {
     "data": {
      "image/png": "[encoded data removed]",
      "text/plain": [
       "<Figure size 432x288 with 1 Axes>"
      ]
     },
     "metadata": {
      "needs_background": "light"
     },
     "output_type": "display_data"
    }
   ],
   "source": [
    "qmaze = TreasureMaze(maze)\n",
    "show(qmaze)"
   ]
  },
  {
   "cell_type": "markdown",
   "metadata": {},
   "source": [
    "In the next code block, you will build your model and train it using deep Q-learning. Note: This step takes several minutes to fully run."
   ]
  },
  {
   "cell_type": "code",
   "execution_count": 20,
   "metadata": {},
   "outputs": [
    {
     "name": "stdout",
     "output_type": "stream",
     "text": [
      "1/1 [==============================] - 0s 78ms/step\n",
      "Epoch: 14999/14999 | Loss: 0.0083 | Episodes: 1 | Win count: 0 | Win rate: 0.000 | time: 2.3 seconds\n",
      "2/2 [==============================] - 0s 0us/step\n",
      "Epoch: 14999/14999 | Loss: 0.0733 | Episodes: 2 | Win count: 0 | Win rate: 0.000 | time: 2.3 seconds\n",
      "3/3 [==============================] - 0s 426us/step\n",
      "Epoch: 14999/14999 | Loss: 0.0242 | Episodes: 3 | Win count: 0 | Win rate: 0.000 | time: 2.3 seconds\n",
      "4/4 [==============================] - 0s 0us/step\n",
      "Epoch: 14999/14999 | Loss: 0.0108 | Episodes: 4 | Win count: 0 | Win rate: 0.000 | time: 2.3 seconds\n",
      "5/5 [==============================] - 0s 0us/step\n",
      "Epoch: 14999/14999 | Loss: 0.0080 | Episodes: 5 | Win count: 0 | Win rate: 0.000 | time: 2.4 seconds\n",
      "6/6 [==============================] - 0s 0us/step\n",
      "Epoch: 14999/14999 | Loss: 0.0048 | Episodes: 6 | Win count: 0 | Win rate: 0.000 | time: 2.4 seconds\n",
      "7/7 [==============================] - 0s 0us/step\n",
      "Epoch: 14999/14999 | Loss: 0.0028 | Episodes: 7 | Win count: 0 | Win rate: 0.000 | time: 2.4 seconds\n",
      "8/8 [==============================] - 0s 0us/step\n",
      "Epoch: 14999/14999 | Loss: 0.0022 | Episodes: 8 | Win count: 0 | Win rate: 0.000 | time: 2.4 seconds\n",
      "9/9 [==============================] - 0s 105us/step\n",
      "Epoch: 14999/14999 | Loss: 0.0016 | Episodes: 9 | Win count: 0 | Win rate: 0.000 | time: 2.4 seconds\n",
      "10/10 [==============================] - 0s 100us/step\n",
      "Epoch: 14999/14999 | Loss: 0.0013 | Episodes: 10 | Win count: 0 | Win rate: 0.000 | time: 2.5 seconds\n",
      "10/10 [==============================] - 0s 0us/step\n",
      "Epoch: 14999/14999 | Loss: 0.0011 | Episodes: 11 | Win count: 0 | Win rate: 0.000 | time: 2.5 seconds\n",
      "10/10 [==============================] - 0s 0us/step\n",
      "Epoch: 14999/14999 | Loss: 0.0011 | Episodes: 12 | Win count: 0 | Win rate: 0.000 | time: 2.5 seconds\n",
      "10/10 [==============================] - 0s 96us/step\n",
      "Epoch: 14999/14999 | Loss: 0.0012 | Episodes: 13 | Win count: 0 | Win rate: 0.000 | time: 2.6 seconds\n",
      "10/10 [==============================] - 0s 108us/step\n",
      "Epoch: 14999/14999 | Loss: 0.0009 | Episodes: 14 | Win count: 0 | Win rate: 0.000 | time: 2.6 seconds\n",
      "10/10 [==============================] - 0s 0us/step\n",
      "Epoch: 14999/14999 | Loss: 0.0009 | Episodes: 15 | Win count: 0 | Win rate: 0.000 | time: 2.7 seconds\n",
      "10/10 [==============================] - 0s 0us/step\n",
      "Epoch: 14999/14999 | Loss: 0.0007 | Episodes: 16 | Win count: 0 | Win rate: 0.000 | time: 2.7 seconds\n",
      "10/10 [==============================] - 0s 142us/step\n",
      "Epoch: 14999/14999 | Loss: 0.0006 | Episodes: 17 | Win count: 0 | Win rate: 0.000 | time: 2.8 seconds\n",
      "10/10 [==============================] - 0s 320us/step\n",
      "Epoch: 14999/14999 | Loss: 0.0005 | Episodes: 18 | Win count: 0 | Win rate: 0.000 | time: 2.8 seconds\n",
      "10/10 [==============================] - 0s 0us/step\n",
      "Epoch: 14999/14999 | Loss: 0.0005 | Episodes: 19 | Win count: 0 | Win rate: 0.000 | time: 2.9 seconds\n",
      "10/10 [==============================] - 0s 96us/step\n",
      "Epoch: 14999/14999 | Loss: 0.0007 | Episodes: 20 | Win count: 0 | Win rate: 0.000 | time: 2.9 seconds\n",
      "10/10 [==============================] - 0s 99us/step\n",
      "Epoch: 14999/14999 | Loss: 0.0008 | Episodes: 21 | Win count: 0 | Win rate: 0.000 | time: 3.0 seconds\n",
      "10/10 [==============================] - 0s 225us/step\n",
      "Epoch: 14999/14999 | Loss: 0.0006 | Episodes: 22 | Win count: 0 | Win rate: 0.000 | time: 3.0 seconds\n",
      "10/10 [==============================] - 0s 81us/step\n",
      "Epoch: 14999/14999 | Loss: 0.0001 | Episodes: 23 | Win count: 0 | Win rate: 0.000 | time: 3.1 seconds\n",
      "10/10 [==============================] - 0s 195us/step\n",
      "Epoch: 14999/14999 | Loss: 0.0001 | Episodes: 24 | Win count: 0 | Win rate: 0.000 | time: 3.1 seconds\n",
      "10/10 [==============================] - 0s 106us/step\n",
      "Epoch: 14999/14999 | Loss: 0.0005 | Episodes: 25 | Win count: 0 | Win rate: 0.000 | time: 3.2 seconds\n",
      "10/10 [==============================] - 0s 101us/step\n",
      "Epoch: 14999/14999 | Loss: 0.0003 | Episodes: 26 | Win count: 0 | Win rate: 0.000 | time: 3.2 seconds\n",
      "10/10 [==============================] - 0s 103us/step\n",
      "Epoch: 14999/14999 | Loss: 0.0010 | Episodes: 27 | Win count: 0 | Win rate: 0.000 | time: 3.2 seconds\n",
      "10/10 [==============================] - 0s 788us/step\n",
      "Epoch: 14999/14999 | Loss: 0.0009 | Episodes: 28 | Win count: 0 | Win rate: 0.000 | time: 3.3 seconds\n",
      "10/10 [==============================] - 0s 97us/step\n",
      "Epoch: 14999/14999 | Loss: 0.0006 | Episodes: 29 | Win count: 0 | Win rate: 0.000 | time: 3.3 seconds\n",
      "10/10 [==============================] - 0s 98us/step\n",
      "Epoch: 14999/14999 | Loss: 0.0004 | Episodes: 30 | Win count: 0 | Win rate: 0.000 | time: 3.4 seconds\n",
      "10/10 [==============================] - 0s 118us/step\n",
      "Epoch: 14999/14999 | Loss: 0.0000 | Episodes: 31 | Win count: 0 | Win rate: 0.000 | time: 3.4 seconds\n",
      "10/10 [==============================] - 0s 100us/step\n",
      "Epoch: 14999/14999 | Loss: 0.0003 | Episodes: 32 | Win count: 0 | Win rate: 0.000 | time: 3.4 seconds\n",
      "10/10 [==============================] - 0s 80us/step\n",
      "Epoch: 14999/14999 | Loss: 0.0001 | Episodes: 33 | Win count: 0 | Win rate: 0.000 | time: 3.5 seconds\n",
      "10/10 [==============================] - 0s 194us/step\n",
      "Epoch: 14999/14999 | Loss: 0.0001 | Episodes: 34 | Win count: 0 | Win rate: 0.000 | time: 3.5 seconds\n",
      "10/10 [==============================] - 0s 0us/step\n",
      "Epoch: 14999/14999 | Loss: 0.0001 | Episodes: 35 | Win count: 0 | Win rate: 0.000 | time: 3.5 seconds\n",
      "10/10 [==============================] - 0s 761us/step\n",
      "Epoch: 14999/14999 | Loss: 0.0004 | Episodes: 36 | Win count: 0 | Win rate: 0.000 | time: 3.6 seconds\n",
      "10/10 [==============================] - 0s 0us/step\n",
      "Epoch: 14999/14999 | Loss: 0.0005 | Episodes: 37 | Win count: 0 | Win rate: 0.000 | time: 3.6 seconds\n",
      "10/10 [==============================] - 0s 92us/step\n",
      "Epoch: 14999/14999 | Loss: 0.0005 | Episodes: 38 | Win count: 0 | Win rate: 0.000 | time: 3.7 seconds\n",
      "10/10 [==============================] - 0s 98us/step\n",
      "Epoch: 14999/14999 | Loss: 0.0002 | Episodes: 39 | Win count: 0 | Win rate: 0.000 | time: 3.7 seconds\n",
      "10/10 [==============================] - 0s 847us/step\n",
      "Epoch: 14999/14999 | Loss: 0.0002 | Episodes: 40 | Win count: 0 | Win rate: 0.000 | time: 3.7 seconds\n",
      "10/10 [==============================] - 0s 0us/step\n",
      "Epoch: 14999/14999 | Loss: 0.0004 | Episodes: 41 | Win count: 0 | Win rate: 0.000 | time: 3.8 seconds\n",
      "10/10 [==============================] - 0s 0us/step\n",
      "Epoch: 14999/14999 | Loss: 0.0003 | Episodes: 42 | Win count: 0 | Win rate: 0.000 | time: 3.8 seconds\n",
      "10/10 [==============================] - 0s 100us/step\n",
      "Epoch: 14999/14999 | Loss: 0.0002 | Episodes: 43 | Win count: 0 | Win rate: 0.000 | time: 3.8 seconds\n",
      "10/10 [==============================] - 0s 0us/step\n",
      "Epoch: 14999/14999 | Loss: 0.0006 | Episodes: 44 | Win count: 0 | Win rate: 0.000 | time: 3.9 seconds\n",
      "10/10 [==============================] - 0s 113us/step\n",
      "Epoch: 14999/14999 | Loss: 0.0009 | Episodes: 45 | Win count: 0 | Win rate: 0.000 | time: 3.9 seconds\n",
      "10/10 [==============================] - 0s 100us/step\n",
      "Epoch: 14999/14999 | Loss: 0.0002 | Episodes: 46 | Win count: 0 | Win rate: 0.000 | time: 4.0 seconds\n",
      "10/10 [==============================] - 0s 113us/step\n",
      "Epoch: 14999/14999 | Loss: 0.0001 | Episodes: 47 | Win count: 0 | Win rate: 0.000 | time: 4.0 seconds\n",
      "10/10 [==============================] - 0s 200us/step\n",
      "Epoch: 14999/14999 | Loss: 0.0000 | Episodes: 48 | Win count: 0 | Win rate: 0.000 | time: 4.0 seconds\n",
      "10/10 [==============================] - 0s 0us/step\n",
      "Epoch: 14999/14999 | Loss: 0.0006 | Episodes: 49 | Win count: 0 | Win rate: 0.000 | time: 4.1 seconds\n",
      "10/10 [==============================] - 0s 102us/step\n",
      "Epoch: 14999/14999 | Loss: 0.0004 | Episodes: 50 | Win count: 0 | Win rate: 0.000 | time: 4.1 seconds\n",
      "10/10 [==============================] - 0s 0us/step\n",
      "Epoch: 14999/14999 | Loss: 0.0003 | Episodes: 51 | Win count: 0 | Win rate: 0.000 | time: 4.1 seconds\n",
      "10/10 [==============================] - 0s 104us/step\n",
      "Epoch: 14999/14999 | Loss: 0.0006 | Episodes: 52 | Win count: 0 | Win rate: 0.000 | time: 4.2 seconds\n",
      "10/10 [==============================] - 0s 99us/step\n",
      "Epoch: 14999/14999 | Loss: 0.0002 | Episodes: 53 | Win count: 0 | Win rate: 0.000 | time: 4.2 seconds\n",
      "10/10 [==============================] - 0s 87us/step\n",
      "Epoch: 14999/14999 | Loss: 0.0007 | Episodes: 54 | Win count: 0 | Win rate: 0.000 | time: 4.3 seconds\n",
      "10/10 [==============================] - 0s 183us/step\n",
      "Epoch: 14999/14999 | Loss: 0.0006 | Episodes: 55 | Win count: 0 | Win rate: 0.000 | time: 4.3 seconds\n",
      "10/10 [==============================] - 0s 194us/step\n",
      "Epoch: 14999/14999 | Loss: 0.0001 | Episodes: 56 | Win count: 0 | Win rate: 0.000 | time: 4.3 seconds\n",
      "10/10 [==============================] - 0s 99us/step\n",
      "Epoch: 14999/14999 | Loss: 0.0006 | Episodes: 57 | Win count: 0 | Win rate: 0.000 | time: 4.4 seconds\n",
      "10/10 [==============================] - 0s 0us/step\n",
      "Epoch: 14999/14999 | Loss: 0.0004 | Episodes: 58 | Win count: 0 | Win rate: 0.000 | time: 4.4 seconds\n",
      "10/10 [==============================] - 0s 100us/step\n",
      "Epoch: 14999/14999 | Loss: 0.0004 | Episodes: 59 | Win count: 0 | Win rate: 0.000 | time: 4.4 seconds\n",
      "10/10 [==============================] - 0s 101us/step\n",
      "Epoch: 14999/14999 | Loss: 0.0000 | Episodes: 60 | Win count: 0 | Win rate: 0.000 | time: 4.5 seconds\n",
      "10/10 [==============================] - 0s 91us/step\n",
      "Epoch: 14999/14999 | Loss: 0.0000 | Episodes: 61 | Win count: 0 | Win rate: 0.000 | time: 4.5 seconds\n",
      "10/10 [==============================] - 0s 463us/step\n",
      "Epoch: 14999/14999 | Loss: 0.0000 | Episodes: 62 | Win count: 0 | Win rate: 0.000 | time: 4.6 seconds\n",
      "10/10 [==============================] - 0s 0us/step\n",
      "Epoch: 14999/14999 | Loss: 0.0001 | Episodes: 63 | Win count: 0 | Win rate: 0.000 | time: 4.6 seconds\n",
      "10/10 [==============================] - 0s 0us/step\n",
      "Epoch: 14999/14999 | Loss: 0.0002 | Episodes: 64 | Win count: 0 | Win rate: 0.000 | time: 4.6 seconds\n",
      "10/10 [==============================] - 0s 100us/step\n",
      "Epoch: 14999/14999 | Loss: 0.0003 | Episodes: 65 | Win count: 0 | Win rate: 0.000 | time: 4.7 seconds\n",
      "10/10 [==============================] - 0s 98us/step\n",
      "Epoch: 14999/14999 | Loss: 0.0001 | Episodes: 66 | Win count: 0 | Win rate: 0.000 | time: 4.7 seconds\n",
      "10/10 [==============================] - 0s 100us/step\n",
      "Epoch: 14999/14999 | Loss: 0.0001 | Episodes: 67 | Win count: 0 | Win rate: 0.000 | time: 4.7 seconds\n",
      "10/10 [==============================] - 0s 0us/step\n",
      "Epoch: 14999/14999 | Loss: 0.0003 | Episodes: 68 | Win count: 0 | Win rate: 0.000 | time: 4.8 seconds\n",
      "10/10 [==============================] - 0s 112us/step\n",
      "Epoch: 14999/14999 | Loss: 0.0000 | Episodes: 69 | Win count: 0 | Win rate: 0.000 | time: 4.8 seconds\n",
      "10/10 [==============================] - 0s 0us/step\n",
      "Epoch: 14999/14999 | Loss: 0.0001 | Episodes: 70 | Win count: 0 | Win rate: 0.000 | time: 4.8 seconds\n",
      "10/10 [==============================] - 0s 85us/step\n",
      "Epoch: 14999/14999 | Loss: 0.0000 | Episodes: 71 | Win count: 0 | Win rate: 0.000 | time: 4.9 seconds\n",
      "10/10 [==============================] - 0s 0us/step\n",
      "Epoch: 14999/14999 | Loss: 0.0003 | Episodes: 72 | Win count: 0 | Win rate: 0.000 | time: 4.9 seconds\n",
      "10/10 [==============================] - 0s 99us/step\n",
      "Epoch: 14999/14999 | Loss: 0.0005 | Episodes: 73 | Win count: 0 | Win rate: 0.000 | time: 5.0 seconds\n",
      "10/10 [==============================] - 0s 0us/step\n",
      "Epoch: 14999/14999 | Loss: 0.0000 | Episodes: 74 | Win count: 0 | Win rate: 0.000 | time: 5.0 seconds\n",
      "10/10 [==============================] - 0s 67us/step\n",
      "Epoch: 14999/14999 | Loss: 0.0000 | Episodes: 75 | Win count: 0 | Win rate: 0.000 | time: 5.0 seconds\n",
      "10/10 [==============================] - 0s 0us/step\n",
      "Epoch: 14999/14999 | Loss: 0.0004 | Episodes: 76 | Win count: 0 | Win rate: 0.000 | time: 5.1 seconds\n",
      "10/10 [==============================] - 0s 202us/step\n",
      "Epoch: 14999/14999 | Loss: 0.0000 | Episodes: 77 | Win count: 0 | Win rate: 0.000 | time: 5.1 seconds\n",
      "10/10 [==============================] - 0s 104us/step\n",
      "Epoch: 14999/14999 | Loss: 0.0007 | Episodes: 78 | Win count: 0 | Win rate: 0.000 | time: 5.2 seconds\n",
      "10/10 [==============================] - 0s 300us/step\n",
      "Epoch: 14999/14999 | Loss: 0.0002 | Episodes: 79 | Win count: 0 | Win rate: 0.000 | time: 5.2 seconds\n",
      "10/10 [==============================] - 0s 271us/step\n",
      "Epoch: 14999/14999 | Loss: 0.0000 | Episodes: 80 | Win count: 0 | Win rate: 0.000 | time: 5.3 seconds\n",
      "10/10 [==============================] - 0s 100us/step\n",
      "Epoch: 14999/14999 | Loss: 0.0003 | Episodes: 81 | Win count: 0 | Win rate: 0.000 | time: 5.3 seconds\n",
      "10/10 [==============================] - 0s 11us/step\n",
      "Epoch: 14999/14999 | Loss: 0.0001 | Episodes: 82 | Win count: 0 | Win rate: 0.000 | time: 5.4 seconds\n",
      "10/10 [==============================] - 0s 100us/step\n",
      "Epoch: 14999/14999 | Loss: 0.0002 | Episodes: 83 | Win count: 0 | Win rate: 0.000 | time: 5.4 seconds\n",
      "10/10 [==============================] - 0s 96us/step\n",
      "Epoch: 14999/14999 | Loss: 0.0004 | Episodes: 84 | Win count: 0 | Win rate: 0.000 | time: 5.4 seconds\n",
      "10/10 [==============================] - 0s 291us/step\n",
      "Epoch: 14999/14999 | Loss: 0.0001 | Episodes: 85 | Win count: 0 | Win rate: 0.000 | time: 5.5 seconds\n",
      "10/10 [==============================] - 0s 136us/step\n",
      "Epoch: 14999/14999 | Loss: 0.0001 | Episodes: 86 | Win count: 0 | Win rate: 0.000 | time: 5.5 seconds\n",
      "10/10 [==============================] - 0s 96us/step\n",
      "Epoch: 14999/14999 | Loss: 0.0003 | Episodes: 87 | Win count: 0 | Win rate: 0.000 | time: 5.6 seconds\n",
      "10/10 [==============================] - 0s 102us/step\n",
      "Epoch: 14999/14999 | Loss: 0.0002 | Episodes: 88 | Win count: 0 | Win rate: 0.000 | time: 5.6 seconds\n",
      "10/10 [==============================] - 0s 99us/step\n",
      "Epoch: 14999/14999 | Loss: 0.0000 | Episodes: 89 | Win count: 0 | Win rate: 0.000 | time: 5.6 seconds\n",
      "10/10 [==============================] - 0s 102us/step\n",
      "Epoch: 14999/14999 | Loss: 0.0004 | Episodes: 90 | Win count: 0 | Win rate: 0.000 | time: 5.7 seconds\n",
      "10/10 [==============================] - 0s 100us/step\n",
      "Epoch: 14999/14999 | Loss: 0.0001 | Episodes: 91 | Win count: 0 | Win rate: 0.000 | time: 5.7 seconds\n",
      "10/10 [==============================] - 0s 99us/step\n",
      "Epoch: 14999/14999 | Loss: 0.0000 | Episodes: 92 | Win count: 0 | Win rate: 0.000 | time: 5.7 seconds\n",
      "10/10 [==============================] - 0s 101us/step\n",
      "Epoch: 14999/14999 | Loss: 0.0000 | Episodes: 93 | Win count: 0 | Win rate: 0.000 | time: 5.8 seconds\n",
      "10/10 [==============================] - 0s 108us/step\n",
      "Epoch: 14999/14999 | Loss: 0.0000 | Episodes: 94 | Win count: 0 | Win rate: 0.000 | time: 5.8 seconds\n",
      "10/10 [==============================] - 0s 101us/step\n",
      "Epoch: 14999/14999 | Loss: 0.0000 | Episodes: 95 | Win count: 0 | Win rate: 0.000 | time: 5.9 seconds\n",
      "10/10 [==============================] - 0s 97us/step\n",
      "Epoch: 14999/14999 | Loss: 0.0000 | Episodes: 96 | Win count: 0 | Win rate: 0.000 | time: 5.9 seconds\n",
      "10/10 [==============================] - 0s 128us/step\n",
      "Epoch: 14999/14999 | Loss: 0.0000 | Episodes: 97 | Win count: 0 | Win rate: 0.000 | time: 6.0 seconds\n",
      "10/10 [==============================] - 0s 0us/step\n",
      "Epoch: 14999/14999 | Loss: 0.0000 | Episodes: 98 | Win count: 0 | Win rate: 0.000 | time: 6.0 seconds\n",
      "10/10 [==============================] - 0s 100us/step\n",
      "Epoch: 14999/14999 | Loss: 0.0002 | Episodes: 99 | Win count: 0 | Win rate: 0.000 | time: 6.0 seconds\n",
      "10/10 [==============================] - 0s 90us/step\n",
      "Epoch: 14999/14999 | Loss: 0.0002 | Episodes: 100 | Win count: 0 | Win rate: 0.000 | time: 6.1 seconds\n",
      "10/10 [==============================] - 0s 142us/step\n",
      "Epoch: 14999/14999 | Loss: 0.0000 | Episodes: 101 | Win count: 0 | Win rate: 0.000 | time: 6.1 seconds\n",
      "10/10 [==============================] - 0s 150us/step\n",
      "Epoch: 14999/14999 | Loss: 0.0000 | Episodes: 102 | Win count: 0 | Win rate: 0.000 | time: 6.2 seconds\n",
      "10/10 [==============================] - 0s 65us/step\n",
      "Epoch: 14999/14999 | Loss: 0.0002 | Episodes: 103 | Win count: 0 | Win rate: 0.000 | time: 6.2 seconds\n",
      "10/10 [==============================] - 0s 0us/step\n",
      "Epoch: 14999/14999 | Loss: 0.0000 | Episodes: 104 | Win count: 0 | Win rate: 0.000 | time: 6.3 seconds\n",
      "10/10 [==============================] - 0s 359us/step\n",
      "Epoch: 14999/14999 | Loss: 0.0000 | Episodes: 105 | Win count: 0 | Win rate: 0.000 | time: 6.3 seconds\n",
      "10/10 [==============================] - 0s 200us/step\n",
      "Epoch: 14999/14999 | Loss: 0.0003 | Episodes: 106 | Win count: 0 | Win rate: 0.000 | time: 6.3 seconds\n",
      "10/10 [==============================] - 0s 103us/step\n",
      "Epoch: 14999/14999 | Loss: 0.0003 | Episodes: 107 | Win count: 0 | Win rate: 0.000 | time: 6.4 seconds\n",
      "10/10 [==============================] - 0s 110us/step\n",
      "Epoch: 14999/14999 | Loss: 0.0000 | Episodes: 108 | Win count: 0 | Win rate: 0.000 | time: 6.4 seconds\n",
      "10/10 [==============================] - 0s 93us/step\n",
      "Epoch: 14999/14999 | Loss: 0.0004 | Episodes: 109 | Win count: 0 | Win rate: 0.000 | time: 6.4 seconds\n",
      "10/10 [==============================] - 0s 0us/step\n",
      "Epoch: 14999/14999 | Loss: 0.0003 | Episodes: 110 | Win count: 0 | Win rate: 0.000 | time: 6.4 seconds\n",
      "10/10 [==============================] - 0s 95us/step\n",
      "Epoch: 14999/14999 | Loss: 0.0008 | Episodes: 111 | Win count: 0 | Win rate: 0.000 | time: 6.5 seconds\n",
      "10/10 [==============================] - 0s 127us/step\n",
      "Epoch: 14999/14999 | Loss: 0.0001 | Episodes: 112 | Win count: 0 | Win rate: 0.000 | time: 6.5 seconds\n",
      "10/10 [==============================] - 0s 252us/step\n",
      "Epoch: 14999/14999 | Loss: 0.0003 | Episodes: 113 | Win count: 0 | Win rate: 0.000 | time: 6.6 seconds\n",
      "10/10 [==============================] - 0s 103us/step\n",
      "Epoch: 14999/14999 | Loss: 0.0003 | Episodes: 114 | Win count: 0 | Win rate: 0.000 | time: 6.6 seconds\n",
      "10/10 [==============================] - 0s 101us/step\n",
      "Epoch: 14999/14999 | Loss: 0.0003 | Episodes: 115 | Win count: 0 | Win rate: 0.000 | time: 6.6 seconds\n",
      "10/10 [==============================] - 0s 100us/step\n",
      "Epoch: 14999/14999 | Loss: 0.0001 | Episodes: 116 | Win count: 0 | Win rate: 0.000 | time: 6.7 seconds\n",
      "10/10 [==============================] - 0s 98us/step\n",
      "Epoch: 14999/14999 | Loss: 0.0001 | Episodes: 117 | Win count: 0 | Win rate: 0.000 | time: 6.7 seconds\n",
      "10/10 [==============================] - 0s 100us/step\n",
      "Epoch: 14999/14999 | Loss: 0.0003 | Episodes: 118 | Win count: 0 | Win rate: 0.000 | time: 6.7 seconds\n",
      "10/10 [==============================] - 0s 0us/step\n",
      "Epoch: 14999/14999 | Loss: 0.0004 | Episodes: 119 | Win count: 0 | Win rate: 0.000 | time: 6.8 seconds\n",
      "10/10 [==============================] - 0s 201us/step\n",
      "Epoch: 14999/14999 | Loss: 0.0001 | Episodes: 120 | Win count: 0 | Win rate: 0.000 | time: 6.8 seconds\n",
      "10/10 [==============================] - 0s 103us/step\n",
      "Epoch: 14999/14999 | Loss: 0.0000 | Episodes: 121 | Win count: 0 | Win rate: 0.000 | time: 6.9 seconds\n",
      "10/10 [==============================] - 0s 98us/step\n",
      "Epoch: 14999/14999 | Loss: 0.0000 | Episodes: 122 | Win count: 0 | Win rate: 0.000 | time: 6.9 seconds\n",
      "10/10 [==============================] - 0s 201us/step\n",
      "Epoch: 14999/14999 | Loss: 0.0000 | Episodes: 123 | Win count: 0 | Win rate: 0.000 | time: 6.9 seconds\n",
      "10/10 [==============================] - 0s 94us/step\n",
      "Epoch: 14999/14999 | Loss: 0.0000 | Episodes: 124 | Win count: 0 | Win rate: 0.000 | time: 7.0 seconds\n",
      "10/10 [==============================] - 0s 97us/step\n",
      "Epoch: 14999/14999 | Loss: 0.0000 | Episodes: 125 | Win count: 0 | Win rate: 0.000 | time: 7.0 seconds\n",
      "10/10 [==============================] - 0s 203us/step\n",
      "Epoch: 14999/14999 | Loss: 0.0002 | Episodes: 126 | Win count: 0 | Win rate: 0.000 | time: 7.1 seconds\n",
      "10/10 [==============================] - 0s 0us/step\n",
      "Epoch: 14999/14999 | Loss: 0.0000 | Episodes: 127 | Win count: 0 | Win rate: 0.000 | time: 7.1 seconds\n",
      "10/10 [==============================] - 0s 100us/step\n",
      "Epoch: 14999/14999 | Loss: 0.0003 | Episodes: 128 | Win count: 0 | Win rate: 0.000 | time: 7.1 seconds\n",
      "10/10 [==============================] - 0s 138us/step\n",
      "Epoch: 14999/14999 | Loss: 0.0001 | Episodes: 129 | Win count: 0 | Win rate: 0.000 | time: 7.2 seconds\n",
      "10/10 [==============================] - 0s 97us/step\n",
      "Epoch: 14999/14999 | Loss: 0.0000 | Episodes: 130 | Win count: 0 | Win rate: 0.000 | time: 7.2 seconds\n",
      "10/10 [==============================] - 0s 689us/step\n",
      "Epoch: 14999/14999 | Loss: 0.0000 | Episodes: 131 | Win count: 0 | Win rate: 0.000 | time: 7.3 seconds\n",
      "n_epoch: 14999, max_mem: 512, data: 32, time: 7.3 seconds\n"
     ]
    },
    {
     "data": {
      "text/plain": [
       "7.272933"
      ]
     },
     "execution_count": 20,
     "metadata": {},
     "output_type": "execute_result"
    }
   ],
   "source": [
    "model = build_model(maze)\n",
    "qtrain(model, maze, epochs=1000, max_memory=8*maze.size, data_size=32)"
   ]
  },
  {
   "cell_type": "markdown",
   "metadata": {},
   "source": [
    "This cell will check to see if the model passes the completion check. Note: This could take several minutes."
   ]
  },
  {
   "cell_type": "code",
   "execution_count": 21,
   "metadata": {},
   "outputs": [
    {
     "data": {
      "text/plain": [
       "<matplotlib.image.AxesImage at 0x1ba40aa7388>"
      ]
     },
     "execution_count": 21,
     "metadata": {},
     "output_type": "execute_result"
    },
    {
     "data": {
      "image/png": "[encoded data removed]",
      "text/plain": [
       "<Figure size 432x288 with 1 Axes>"
      ]
     },
     "metadata": {
      "needs_background": "light"
     },
     "output_type": "display_data"
    }
   ],
   "source": [
    "completion_check(model, qmaze)\n",
    "show(qmaze)"
   ]
  },
  {
   "cell_type": "markdown",
   "metadata": {},
   "source": [
    "This cell will test your model for one game. It will start the pirate at the top-left corner and run play_game. The agent should find a path from the starting position to the target (treasure). The treasure is located in the bottom-right corner."
   ]
  },
  {
   "cell_type": "code",
   "execution_count": 22,
   "metadata": {},
   "outputs": [
    {
     "data": {
      "text/plain": [
       "<matplotlib.image.AxesImage at 0x1ba40b28f88>"
      ]
     },
     "execution_count": 22,
     "metadata": {},
     "output_type": "execute_result"
    },
    {
     "data": {
      "image/png": "[encoded data removed]",
      "text/plain": [
       "<Figure size 432x288 with 1 Axes>"
      ]
     },
     "metadata": {
      "needs_background": "light"
     },
     "output_type": "display_data"
    }
   ],
   "source": [
    "pirate_start = (0, 0)\n",
    "play_game(model, qmaze, pirate_start)\n",
    "show(qmaze)"
   ]
  },
  {
   "cell_type": "markdown",
   "metadata": {},
   "source": [
    "## Save and Submit Your Work\n",
    "After you have finished creating the code for your notebook, save your work. Make sure that your notebook contains your name in the filename (e.g. Doe_Jane_ProjectTwo.ipynb). This will help your instructor access and grade your work easily. Download a copy of your IPYNB file and submit it to Brightspace. Refer to the Jupyter Notebook in Apporto Tutorial if you need help with these tasks."
   ]
  },
  {
   "cell_type": "code",
   "execution_count": null,
   "metadata": {},
   "outputs": [],
   "source": []
  }
 ],
 "metadata": {
  "kernelspec": {
   "display_name": "Python 3",
   "language": "python",
   "name": "python3"
  },
  "language_info": {
   "codemirror_mode": {
    "name": "ipython",
    "version": 3
   },
   "file_extension": ".py",
   "mimetype": "text/x-python",
   "name": "python",
   "nbconvert_exporter": "python",
   "pygments_lexer": "ipython3",
   "version": "3.7.4"
  }
 },
 "nbformat": 4,
 "nbformat_minor": 2
}
